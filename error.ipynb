{
  "nbformat": 4,
  "nbformat_minor": 0,
  "metadata": {
    "colab": {
      "provenance": []
    },
    "kernelspec": {
      "name": "python3",
      "display_name": "Python 3"
    },
    "language_info": {
      "name": "python"
    }
  },
  "cells": [
    {
      "cell_type": "code",
      "execution_count": 1,
      "metadata": {
        "colab": {
          "base_uri": "https://localhost:8080/"
        },
        "id": "_jz2cn2DwUi0",
        "outputId": "4f40e646-722e-404e-e6bb-82bad27e7d3e"
      },
      "outputs": [
        {
          "output_type": "stream",
          "name": "stdout",
          "text": [
            "  % Total    % Received % Xferd  Average Speed   Time    Time     Time  Current\n",
            "                                 Dload  Upload   Total   Spent    Left  Speed\n",
            "100 2752M  100 2752M    0     0  11.0M      0  0:04:08  0:04:08 --:--:-- 11.9M\n"
          ]
        }
      ],
      "source": [
        "! curl -O https://data.4tu.nl/file/318e6d0f-122a-4c19-820d-05c5cfb1dd50/e55b01eb-6818-4e8c-82d0-af01055bfcde"
      ]
    },
    {
      "cell_type": "code",
      "source": [
        "! pip install rarfile\n",
        "import rarfile\n",
        "rar_path = \"e55b01eb-6818-4e8c-82d0-af01055bfcde\"\n",
        "rar = rarfile.RarFile(rar_path)"
      ],
      "metadata": {
        "colab": {
          "base_uri": "https://localhost:8080/"
        },
        "id": "Czzlk4FhxHiQ",
        "outputId": "55d2ac9f-82e4-4c42-d4fb-a1188d6e0085"
      },
      "execution_count": 2,
      "outputs": [
        {
          "output_type": "stream",
          "name": "stdout",
          "text": [
            "Collecting rarfile\n",
            "  Downloading rarfile-4.0-py3-none-any.whl (28 kB)\n",
            "Installing collected packages: rarfile\n",
            "Successfully installed rarfile-4.0\n"
          ]
        }
      ]
    },
    {
      "cell_type": "code",
      "source": [
        "path_to_extract = \"data\"\n",
        "rar.extractall(path_to_extract)"
      ],
      "metadata": {
        "id": "mHVFU3J1Rfk-"
      },
      "execution_count": 3,
      "outputs": []
    },
    {
      "cell_type": "code",
      "source": [
        "import os,shutil\n",
        "from google.colab import files\n",
        "from sklearn.preprocessing import MinMaxScaler\n",
        "import numpy as np\n",
        "import scipy.signal as signal\n",
        "import scipy.io\n",
        "import re\n",
        "import pandas as pd"
      ],
      "metadata": {
        "id": "MfCx4isr3CV3"
      },
      "execution_count": 4,
      "outputs": []
    },
    {
      "cell_type": "code",
      "source": [
        "# ! rm -r folder_path"
      ],
      "metadata": {
        "id": "MUsKbuNSyOPo"
      },
      "execution_count": null,
      "outputs": []
    },
    {
      "cell_type": "code",
      "source": [
        "txt_path = \"data/HS4/Bad Electrodes.txt\"\n",
        "data = pd.read_csv(txt_path, sep='\\t')\n",
        "print(data)"
      ],
      "metadata": {
        "colab": {
          "base_uri": "https://localhost:8080/"
        },
        "id": "yxmR8JkxzH6U",
        "outputId": "56c1fbc6-fb9e-44c9-96c9-ff738467387f"
      },
      "execution_count": 5,
      "outputs": [
        {
          "output_type": "stream",
          "name": "stdout",
          "text": [
            "        close hand: 9 not working\n",
            "0             open hand: all good\n",
            "1  point:electrodes 9 not working\n",
            "2        thumb flex:9 not working\n",
            "3         thumb ext:9 not working\n",
            "4        wrist flex:9 not working\n",
            "5              wrist ext:all good\n"
          ]
        }
      ]
    },
    {
      "cell_type": "code",
      "source": [
        "with open('data/HS4/Measurements HS4.txt', 'r') as file:\n",
        "    content = file.read()\n",
        "print(content)"
      ],
      "metadata": {
        "colab": {
          "base_uri": "https://localhost:8080/"
        },
        "id": "QEKjpGJ2zVPT",
        "outputId": "5b0e5542-4d7a-415c-9cb5-b369c99b85b8"
      },
      "execution_count": 108,
      "outputs": [
        {
          "output_type": "stream",
          "name": "stdout",
          "text": [
            "Forearm length: 26 cm\n",
            "Circumference: 27 cm\n"
          ]
        }
      ]
    },
    {
      "cell_type": "code",
      "source": [
        "!pip install pysiology\n",
        "import pysiology"
      ],
      "metadata": {
        "id": "d6O06rgZ3VNI"
      },
      "execution_count": null,
      "outputs": []
    },
    {
      "cell_type": "code",
      "source": [
        "datae= scipy.io.loadmat(\"data/DS1/thumb_flex_raw.mat\", mat_dtype=True, squeeze_me=True, struct_as_record=False, chars_as_strings=True, matlab_compatible=False)\n",
        "data =datae[\"thumb_flex_ds1\"]\n",
        "scaler = MinMaxScaler(feature_range=(0, 10))\n",
        "scaled_data = scaler.fit_transform(data[1].reshape(-1, 1)).flatten()\n",
        "scaled_data"
      ],
      "metadata": {
        "colab": {
          "base_uri": "https://localhost:8080/"
        },
        "id": "WhgPR2we2y7H",
        "outputId": "e146a179-0173-47c0-97ca-b8a71c275ba0"
      },
      "execution_count": 16,
      "outputs": [
        {
          "output_type": "execute_result",
          "data": {
            "text/plain": [
              "array([2.51565685, 2.44388094, 2.36230677, ..., 2.39949856, 2.38188596,\n",
              "       2.34011992])"
            ]
          },
          "metadata": {},
          "execution_count": 16
        }
      ]
    },
    {
      "cell_type": "code",
      "source": [
        "print(dir(pysiology.electromyography))"
      ],
      "metadata": {
        "colab": {
          "base_uri": "https://localhost:8080/"
        },
        "id": "uErsRTZF3Yee",
        "outputId": "63c10d73-8dd3-4f29-96ea-98c6d6e9bd4e"
      },
      "execution_count": 8,
      "outputs": [
        {
          "output_type": "stream",
          "name": "stdout",
          "text": [
            "['__builtins__', '__cached__', '__doc__', '__file__', '__loader__', '__name__', '__package__', '__spec__', 'analyzeEMG', 'butter', 'butter_highpass', 'butter_highpass_filter', 'butter_lowpass', 'butter_lowpass_filter', 'getAAC', 'getAFB', 'getDASDV', 'getFR', 'getHIST', 'getIEMG', 'getLOG', 'getMAV', 'getMAV1', 'getMAV2', 'getMAVSLPk', 'getMDF', 'getMNF', 'getMNP', 'getMYOP', 'getPSD', 'getPSR', 'getPeakFrequency', 'getRMS', 'getSM', 'getSSC', 'getSSI', 'getTM', 'getTTP', 'getVAR', 'getVCF', 'getWAMP', 'getWL', 'getZC', 'lfilter', 'math', 'np', 'peakutils', 'phasicFilter', 'plt', 'scipy', 'square', 'welch']\n"
          ]
        }
      ]
    },
    {
      "cell_type": "code",
      "source": [
        "analyzedEMG = pysiology.electromyography.analyzeEMG(scaled_data[:256],samplerate=200,preprocessing=False)\n",
        "data1,data2 = analyzedEMG\n",
        "data2 = analyzedEMG[data2]"
      ],
      "metadata": {
        "colab": {
          "base_uri": "https://localhost:8080/",
          "height": 1000
        },
        "id": "CmsYQ7to2jO_",
        "outputId": "79c68077-eaf7-42b7-dd94-b705a908dcc8"
      },
      "execution_count": 23,
      "outputs": [
        {
          "output_type": "error",
          "ename": "ValueError",
          "evalue": "ignored",
          "traceback": [
            "\u001b[0;31m---------------------------------------------------------------------------\u001b[0m",
            "\u001b[0;31mValueError\u001b[0m                                Traceback (most recent call last)",
            "\u001b[0;32m/usr/local/lib/python3.10/dist-packages/scipy/signal/windows/_windows.py\u001b[0m in \u001b[0;36mget_window\u001b[0;34m(window, Nx, fftbins)\u001b[0m\n\u001b[1;32m   2343\u001b[0m     \u001b[0;32mtry\u001b[0m\u001b[0;34m:\u001b[0m\u001b[0;34m\u001b[0m\u001b[0;34m\u001b[0m\u001b[0m\n\u001b[0;32m-> 2344\u001b[0;31m         \u001b[0mbeta\u001b[0m \u001b[0;34m=\u001b[0m \u001b[0mfloat\u001b[0m\u001b[0;34m(\u001b[0m\u001b[0mwindow\u001b[0m\u001b[0;34m)\u001b[0m\u001b[0;34m\u001b[0m\u001b[0;34m\u001b[0m\u001b[0m\n\u001b[0m\u001b[1;32m   2345\u001b[0m     \u001b[0;32mexcept\u001b[0m \u001b[0;34m(\u001b[0m\u001b[0mTypeError\u001b[0m\u001b[0;34m,\u001b[0m \u001b[0mValueError\u001b[0m\u001b[0;34m)\u001b[0m \u001b[0;32mas\u001b[0m \u001b[0me\u001b[0m\u001b[0;34m:\u001b[0m\u001b[0;34m\u001b[0m\u001b[0;34m\u001b[0m\u001b[0m\n",
            "\u001b[0;31mValueError\u001b[0m: could not convert string to float: 'hanning'",
            "\nDuring handling of the above exception, another exception occurred:\n",
            "\u001b[0;31mKeyError\u001b[0m                                  Traceback (most recent call last)",
            "\u001b[0;32m/usr/local/lib/python3.10/dist-packages/scipy/signal/windows/_windows.py\u001b[0m in \u001b[0;36mget_window\u001b[0;34m(window, Nx, fftbins)\u001b[0m\n\u001b[1;32m   2361\u001b[0m         \u001b[0;32mtry\u001b[0m\u001b[0;34m:\u001b[0m\u001b[0;34m\u001b[0m\u001b[0;34m\u001b[0m\u001b[0m\n\u001b[0;32m-> 2362\u001b[0;31m             \u001b[0mwinfunc\u001b[0m \u001b[0;34m=\u001b[0m \u001b[0m_win_equiv\u001b[0m\u001b[0;34m[\u001b[0m\u001b[0mwinstr\u001b[0m\u001b[0;34m]\u001b[0m\u001b[0;34m\u001b[0m\u001b[0;34m\u001b[0m\u001b[0m\n\u001b[0m\u001b[1;32m   2363\u001b[0m         \u001b[0;32mexcept\u001b[0m \u001b[0mKeyError\u001b[0m \u001b[0;32mas\u001b[0m \u001b[0me\u001b[0m\u001b[0;34m:\u001b[0m\u001b[0;34m\u001b[0m\u001b[0;34m\u001b[0m\u001b[0m\n",
            "\u001b[0;31mKeyError\u001b[0m: 'hanning'",
            "\nThe above exception was the direct cause of the following exception:\n",
            "\u001b[0;31mValueError\u001b[0m                                Traceback (most recent call last)",
            "\u001b[0;32m<ipython-input-23-b613411a0de9>\u001b[0m in \u001b[0;36m<cell line: 1>\u001b[0;34m()\u001b[0m\n\u001b[0;32m----> 1\u001b[0;31m \u001b[0manalyzedEMG\u001b[0m \u001b[0;34m=\u001b[0m \u001b[0mpysiology\u001b[0m\u001b[0;34m.\u001b[0m\u001b[0melectromyography\u001b[0m\u001b[0;34m.\u001b[0m\u001b[0manalyzeEMG\u001b[0m\u001b[0;34m(\u001b[0m\u001b[0mscaled_data\u001b[0m\u001b[0;34m[\u001b[0m\u001b[0;34m:\u001b[0m\u001b[0;36m256\u001b[0m\u001b[0;34m]\u001b[0m\u001b[0;34m,\u001b[0m\u001b[0msamplerate\u001b[0m\u001b[0;34m=\u001b[0m\u001b[0;36m200\u001b[0m\u001b[0;34m,\u001b[0m\u001b[0mpreprocessing\u001b[0m\u001b[0;34m=\u001b[0m\u001b[0;32mFalse\u001b[0m\u001b[0;34m)\u001b[0m\u001b[0;34m\u001b[0m\u001b[0;34m\u001b[0m\u001b[0m\n\u001b[0m\u001b[1;32m      2\u001b[0m \u001b[0mdata1\u001b[0m\u001b[0;34m,\u001b[0m\u001b[0mdata2\u001b[0m \u001b[0;34m=\u001b[0m \u001b[0manalyzedEMG\u001b[0m\u001b[0;34m\u001b[0m\u001b[0;34m\u001b[0m\u001b[0m\n\u001b[1;32m      3\u001b[0m \u001b[0mdata2\u001b[0m \u001b[0;34m=\u001b[0m \u001b[0manalyzedEMG\u001b[0m\u001b[0;34m[\u001b[0m\u001b[0mdata2\u001b[0m\u001b[0;34m]\u001b[0m\u001b[0;34m\u001b[0m\u001b[0;34m\u001b[0m\u001b[0m\n",
            "\u001b[0;32m/usr/local/lib/python3.10/dist-packages/pysiology/electromyography.py\u001b[0m in \u001b[0;36manalyzeEMG\u001b[0;34m(rawEMGSignal, samplerate, preprocessing, lowpass, highpass, threshold, nseg, phasic_seconds)\u001b[0m\n\u001b[1;32m    946\u001b[0m     \u001b[0mresultsdict\u001b[0m\u001b[0;34m[\u001b[0m\u001b[0;34m\"FrequencyDomain\"\u001b[0m\u001b[0;34m]\u001b[0m\u001b[0;34m[\u001b[0m\u001b[0;34m\"MNF\"\u001b[0m\u001b[0;34m]\u001b[0m \u001b[0;34m=\u001b[0m \u001b[0mgetMNF\u001b[0m\u001b[0;34m(\u001b[0m\u001b[0mrawEMGPowerSpectrum\u001b[0m\u001b[0;34m,\u001b[0m \u001b[0mfrequencies\u001b[0m\u001b[0;34m)\u001b[0m\u001b[0;34m\u001b[0m\u001b[0;34m\u001b[0m\u001b[0m\n\u001b[1;32m    947\u001b[0m     \u001b[0mresultsdict\u001b[0m\u001b[0;34m[\u001b[0m\u001b[0;34m\"FrequencyDomain\"\u001b[0m\u001b[0;34m]\u001b[0m\u001b[0;34m[\u001b[0m\u001b[0;34m\"MDF\"\u001b[0m\u001b[0;34m]\u001b[0m \u001b[0;34m=\u001b[0m \u001b[0mgetMDF\u001b[0m\u001b[0;34m(\u001b[0m\u001b[0mrawEMGPowerSpectrum\u001b[0m\u001b[0;34m,\u001b[0m \u001b[0mfrequencies\u001b[0m\u001b[0;34m)\u001b[0m\u001b[0;34m\u001b[0m\u001b[0;34m\u001b[0m\u001b[0m\n\u001b[0;32m--> 948\u001b[0;31m     \u001b[0mresultsdict\u001b[0m\u001b[0;34m[\u001b[0m\u001b[0;34m\"FrequencyDomain\"\u001b[0m\u001b[0;34m]\u001b[0m\u001b[0;34m[\u001b[0m\u001b[0;34m\"PeakFrequency\"\u001b[0m\u001b[0;34m]\u001b[0m \u001b[0;34m=\u001b[0m \u001b[0mgetPeakFrequency\u001b[0m\u001b[0;34m(\u001b[0m\u001b[0mrawEMGPowerSpectrum\u001b[0m\u001b[0;34m,\u001b[0m \u001b[0mfrequencies\u001b[0m\u001b[0;34m)\u001b[0m\u001b[0;34m\u001b[0m\u001b[0;34m\u001b[0m\u001b[0m\n\u001b[0m\u001b[1;32m    949\u001b[0m     \u001b[0mresultsdict\u001b[0m\u001b[0;34m[\u001b[0m\u001b[0;34m\"FrequencyDomain\"\u001b[0m\u001b[0;34m]\u001b[0m\u001b[0;34m[\u001b[0m\u001b[0;34m\"MNP\"\u001b[0m\u001b[0;34m]\u001b[0m \u001b[0;34m=\u001b[0m \u001b[0mgetMNP\u001b[0m\u001b[0;34m(\u001b[0m\u001b[0mrawEMGPowerSpectrum\u001b[0m\u001b[0;34m)\u001b[0m\u001b[0;34m\u001b[0m\u001b[0;34m\u001b[0m\u001b[0m\n\u001b[1;32m    950\u001b[0m     \u001b[0mresultsdict\u001b[0m\u001b[0;34m[\u001b[0m\u001b[0;34m\"FrequencyDomain\"\u001b[0m\u001b[0;34m]\u001b[0m\u001b[0;34m[\u001b[0m\u001b[0;34m\"TTP\"\u001b[0m\u001b[0;34m]\u001b[0m \u001b[0;34m=\u001b[0m \u001b[0mgetTTP\u001b[0m\u001b[0;34m(\u001b[0m\u001b[0mrawEMGPowerSpectrum\u001b[0m\u001b[0;34m)\u001b[0m\u001b[0;34m\u001b[0m\u001b[0;34m\u001b[0m\u001b[0m\n",
            "\u001b[0;32m/usr/local/lib/python3.10/dist-packages/pysiology/electromyography.py\u001b[0m in \u001b[0;36mgetPSD\u001b[0;34m(rawEMGSignal, samplerate)\u001b[0m\n\u001b[1;32m    797\u001b[0m \u001b[0;34m\u001b[0m\u001b[0m\n\u001b[1;32m    798\u001b[0m \u001b[0;32mdef\u001b[0m \u001b[0mgetPSD\u001b[0m\u001b[0;34m(\u001b[0m\u001b[0mrawEMGSignal\u001b[0m\u001b[0;34m,\u001b[0m \u001b[0msamplerate\u001b[0m\u001b[0;34m)\u001b[0m\u001b[0;34m:\u001b[0m\u001b[0;34m\u001b[0m\u001b[0;34m\u001b[0m\u001b[0m\n\u001b[0;32m--> 799\u001b[0;31m     \u001b[0mfrequencies\u001b[0m\u001b[0;34m,\u001b[0m \u001b[0mpsd\u001b[0m \u001b[0;34m=\u001b[0m \u001b[0mwelch\u001b[0m\u001b[0;34m(\u001b[0m\u001b[0mrawEMGSignal\u001b[0m\u001b[0;34m,\u001b[0m \u001b[0mfs\u001b[0m\u001b[0;34m=\u001b[0m\u001b[0msamplerate\u001b[0m\u001b[0;34m,\u001b[0m\u001b[0mnperseg\u001b[0m\u001b[0;34m=\u001b[0m\u001b[0;36m256\u001b[0m\u001b[0;34m,\u001b[0m\u001b[0mdetrend\u001b[0m\u001b[0;34m=\u001b[0m\u001b[0;34m'constant'\u001b[0m\u001b[0;34m,\u001b[0m\u001b[0mscaling\u001b[0m\u001b[0;34m=\u001b[0m\u001b[0;34m\"spectrum\"\u001b[0m\u001b[0;34m)\u001b[0m \u001b[0;31m# detrend x by subtracting the mean\u001b[0m\u001b[0;34m\u001b[0m\u001b[0;34m\u001b[0m\u001b[0m\n\u001b[0m\u001b[1;32m    800\u001b[0m     \u001b[0;32mreturn\u001b[0m\u001b[0;34m(\u001b[0m\u001b[0;34m[\u001b[0m\u001b[0mpsd\u001b[0m\u001b[0;34m,\u001b[0m\u001b[0mfrequencies\u001b[0m\u001b[0;34m]\u001b[0m\u001b[0;34m)\u001b[0m\u001b[0;34m\u001b[0m\u001b[0;34m\u001b[0m\u001b[0m\n\u001b[1;32m    801\u001b[0m \u001b[0;34m\u001b[0m\u001b[0m\n",
            "\u001b[0;32m/usr/local/lib/python3.10/dist-packages/scipy/signal/_spectral_py.py\u001b[0m in \u001b[0;36mwelch\u001b[0;34m(x, fs, window, nperseg, noverlap, nfft, detrend, return_onesided, scaling, axis, average)\u001b[0m\n\u001b[1;32m    453\u001b[0m \u001b[0;34m\u001b[0m\u001b[0m\n\u001b[1;32m    454\u001b[0m     \"\"\"\n\u001b[0;32m--> 455\u001b[0;31m     freqs, Pxx = csd(x, x, fs=fs, window=window, nperseg=nperseg,\n\u001b[0m\u001b[1;32m    456\u001b[0m                      \u001b[0mnoverlap\u001b[0m\u001b[0;34m=\u001b[0m\u001b[0mnoverlap\u001b[0m\u001b[0;34m,\u001b[0m \u001b[0mnfft\u001b[0m\u001b[0;34m=\u001b[0m\u001b[0mnfft\u001b[0m\u001b[0;34m,\u001b[0m \u001b[0mdetrend\u001b[0m\u001b[0;34m=\u001b[0m\u001b[0mdetrend\u001b[0m\u001b[0;34m,\u001b[0m\u001b[0;34m\u001b[0m\u001b[0;34m\u001b[0m\u001b[0m\n\u001b[1;32m    457\u001b[0m                      \u001b[0mreturn_onesided\u001b[0m\u001b[0;34m=\u001b[0m\u001b[0mreturn_onesided\u001b[0m\u001b[0;34m,\u001b[0m \u001b[0mscaling\u001b[0m\u001b[0;34m=\u001b[0m\u001b[0mscaling\u001b[0m\u001b[0;34m,\u001b[0m\u001b[0;34m\u001b[0m\u001b[0;34m\u001b[0m\u001b[0m\n",
            "\u001b[0;32m/usr/local/lib/python3.10/dist-packages/scipy/signal/_spectral_py.py\u001b[0m in \u001b[0;36mcsd\u001b[0;34m(x, y, fs, window, nperseg, noverlap, nfft, detrend, return_onesided, scaling, axis, average)\u001b[0m\n\u001b[1;32m    588\u001b[0m \u001b[0;34m\u001b[0m\u001b[0m\n\u001b[1;32m    589\u001b[0m     \"\"\"\n\u001b[0;32m--> 590\u001b[0;31m     freqs, _, Pxy = _spectral_helper(x, y, fs, window, nperseg, noverlap, nfft,\n\u001b[0m\u001b[1;32m    591\u001b[0m                                      \u001b[0mdetrend\u001b[0m\u001b[0;34m,\u001b[0m \u001b[0mreturn_onesided\u001b[0m\u001b[0;34m,\u001b[0m \u001b[0mscaling\u001b[0m\u001b[0;34m,\u001b[0m \u001b[0maxis\u001b[0m\u001b[0;34m,\u001b[0m\u001b[0;34m\u001b[0m\u001b[0;34m\u001b[0m\u001b[0m\n\u001b[1;32m    592\u001b[0m                                      mode='psd')\n",
            "\u001b[0;32m/usr/local/lib/python3.10/dist-packages/scipy/signal/_spectral_py.py\u001b[0m in \u001b[0;36m_spectral_helper\u001b[0;34m(x, y, fs, window, nperseg, noverlap, nfft, detrend, return_onesided, scaling, axis, mode, boundary, padded)\u001b[0m\n\u001b[1;32m   1793\u001b[0m \u001b[0;34m\u001b[0m\u001b[0m\n\u001b[1;32m   1794\u001b[0m     \u001b[0;31m# parse window; if array like, then set nperseg = win.shape\u001b[0m\u001b[0;34m\u001b[0m\u001b[0;34m\u001b[0m\u001b[0m\n\u001b[0;32m-> 1795\u001b[0;31m     \u001b[0mwin\u001b[0m\u001b[0;34m,\u001b[0m \u001b[0mnperseg\u001b[0m \u001b[0;34m=\u001b[0m \u001b[0m_triage_segments\u001b[0m\u001b[0;34m(\u001b[0m\u001b[0mwindow\u001b[0m\u001b[0;34m,\u001b[0m \u001b[0mnperseg\u001b[0m\u001b[0;34m,\u001b[0m \u001b[0minput_length\u001b[0m\u001b[0;34m=\u001b[0m\u001b[0mx\u001b[0m\u001b[0;34m.\u001b[0m\u001b[0mshape\u001b[0m\u001b[0;34m[\u001b[0m\u001b[0;34m-\u001b[0m\u001b[0;36m1\u001b[0m\u001b[0;34m]\u001b[0m\u001b[0;34m)\u001b[0m\u001b[0;34m\u001b[0m\u001b[0;34m\u001b[0m\u001b[0m\n\u001b[0m\u001b[1;32m   1796\u001b[0m \u001b[0;34m\u001b[0m\u001b[0m\n\u001b[1;32m   1797\u001b[0m     \u001b[0;32mif\u001b[0m \u001b[0mnfft\u001b[0m \u001b[0;32mis\u001b[0m \u001b[0;32mNone\u001b[0m\u001b[0;34m:\u001b[0m\u001b[0;34m\u001b[0m\u001b[0;34m\u001b[0m\u001b[0m\n",
            "\u001b[0;32m/usr/local/lib/python3.10/dist-packages/scipy/signal/_spectral_py.py\u001b[0m in \u001b[0;36m_triage_segments\u001b[0;34m(window, nperseg, input_length)\u001b[0m\n\u001b[1;32m   2016\u001b[0m                           .format(nperseg, input_length))\n\u001b[1;32m   2017\u001b[0m             \u001b[0mnperseg\u001b[0m \u001b[0;34m=\u001b[0m \u001b[0minput_length\u001b[0m\u001b[0;34m\u001b[0m\u001b[0;34m\u001b[0m\u001b[0m\n\u001b[0;32m-> 2018\u001b[0;31m         \u001b[0mwin\u001b[0m \u001b[0;34m=\u001b[0m \u001b[0mget_window\u001b[0m\u001b[0;34m(\u001b[0m\u001b[0mwindow\u001b[0m\u001b[0;34m,\u001b[0m \u001b[0mnperseg\u001b[0m\u001b[0;34m)\u001b[0m\u001b[0;34m\u001b[0m\u001b[0;34m\u001b[0m\u001b[0m\n\u001b[0m\u001b[1;32m   2019\u001b[0m     \u001b[0;32melse\u001b[0m\u001b[0;34m:\u001b[0m\u001b[0;34m\u001b[0m\u001b[0;34m\u001b[0m\u001b[0m\n\u001b[1;32m   2020\u001b[0m         \u001b[0mwin\u001b[0m \u001b[0;34m=\u001b[0m \u001b[0mnp\u001b[0m\u001b[0;34m.\u001b[0m\u001b[0masarray\u001b[0m\u001b[0;34m(\u001b[0m\u001b[0mwindow\u001b[0m\u001b[0;34m)\u001b[0m\u001b[0;34m\u001b[0m\u001b[0;34m\u001b[0m\u001b[0m\n",
            "\u001b[0;32m/usr/local/lib/python3.10/dist-packages/scipy/signal/windows/_windows.py\u001b[0m in \u001b[0;36mget_window\u001b[0;34m(window, Nx, fftbins)\u001b[0m\n\u001b[1;32m   2362\u001b[0m             \u001b[0mwinfunc\u001b[0m \u001b[0;34m=\u001b[0m \u001b[0m_win_equiv\u001b[0m\u001b[0;34m[\u001b[0m\u001b[0mwinstr\u001b[0m\u001b[0;34m]\u001b[0m\u001b[0;34m\u001b[0m\u001b[0;34m\u001b[0m\u001b[0m\n\u001b[1;32m   2363\u001b[0m         \u001b[0;32mexcept\u001b[0m \u001b[0mKeyError\u001b[0m \u001b[0;32mas\u001b[0m \u001b[0me\u001b[0m\u001b[0;34m:\u001b[0m\u001b[0;34m\u001b[0m\u001b[0;34m\u001b[0m\u001b[0m\n\u001b[0;32m-> 2364\u001b[0;31m             \u001b[0;32mraise\u001b[0m \u001b[0mValueError\u001b[0m\u001b[0;34m(\u001b[0m\u001b[0;34m\"Unknown window type.\"\u001b[0m\u001b[0;34m)\u001b[0m \u001b[0;32mfrom\u001b[0m \u001b[0me\u001b[0m\u001b[0;34m\u001b[0m\u001b[0;34m\u001b[0m\u001b[0m\n\u001b[0m\u001b[1;32m   2365\u001b[0m \u001b[0;34m\u001b[0m\u001b[0m\n\u001b[1;32m   2366\u001b[0m         \u001b[0;32mif\u001b[0m \u001b[0mwinfunc\u001b[0m \u001b[0;32mis\u001b[0m \u001b[0mdpss\u001b[0m\u001b[0;34m:\u001b[0m\u001b[0;34m\u001b[0m\u001b[0;34m\u001b[0m\u001b[0m\n",
            "\u001b[0;31mValueError\u001b[0m: Unknown window type."
          ]
        }
      ]
    }
  ]
}